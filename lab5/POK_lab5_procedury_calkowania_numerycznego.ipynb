{
 "cells": [
  {
   "cell_type": "markdown",
   "id": "d0fae770",
   "metadata": {},
   "source": [
    "# Procedury całkowania numerycznego\n",
    "\n",
    "## Laboratorium\n",
    "\n",
    "### całka do policzenia\n",
    "\n",
    "$\\int_{2}^{5}(x^2 + 3) dx$\n",
    "\n",
    "## Rozwiązanie analityczne\n",
    "$\\int_{2}^{5}(x^2 + 3) dx = (\\frac{x^3}{3} + 3x) |^{5}_{2} = (\\frac{125}{3} + 15) - (\\frac{8}{3} + 6) = 48$"
   ]
  },
  {
   "cell_type": "markdown",
   "id": "88dc3ed6",
   "metadata": {},
   "source": [
    "## Metoda Monte Carlo"
   ]
  },
  {
   "cell_type": "code",
   "execution_count": 5,
   "id": "825cb6dd",
   "metadata": {},
   "outputs": [
    {
     "name": "stdout",
     "output_type": "stream",
     "text": [
      "Obliczona wartość całki funkcji x^2 + 3, obliczonej z przedziału od 2 do 5, za pomocą metody monte carlo wynosi: 48.263568458341105\n",
      "Błąd bezwględny do właściwego wyniku wyniósł: 0.26356845834110487\n"
     ]
    }
   ],
   "source": [
    "# zaimprtowanie modułów\n",
    "import numpy as np\n",
    "\n",
    "## Obliczenia całki\n",
    "# ograniczenia całki\n",
    "a = 2\n",
    "b = 5 \n",
    "N = 10000\n",
    "\n",
    "# zdefiniowanie wektora\n",
    "ar = np.zeros(N)\n",
    "\n",
    "# wypełnianie elementów wektora wartościami losowymi z przedziału od a do b\n",
    "ar = np.random.uniform(a, b, N)\n",
    "\n",
    "# zmienna przechowująca sumę wartości obliczonych z wylosowanych wartości, podstawionych do funkcji\n",
    "integral = 0.0\n",
    "\n",
    "# zdefiniowanie funkcji\n",
    "fun = lambda x: x**2 + 3\n",
    "\n",
    "# policzenie wartości funkcji dla wylosowanych elementów\n",
    "integral = fun(ar)\n",
    "\n",
    "# zsumowanie elementów w wektorze\n",
    "integral_sum = np.sum(integral)\n",
    "\n",
    "# otrzymanie wyniku całkowania za pomocą metody monte-carlo\n",
    "ans = (b-a)/float(N)*integral_sum\n",
    "\n",
    "# właściwa wartość całki\n",
    "result = 48\n",
    "\n",
    "# policzenie błędu bezwględnego\n",
    "err_mc = np.abs(result - ans)\n",
    "\n",
    "# wydrukowanie obliczonej wartości\n",
    "print(f\"Obliczona wartość całki funkcji x^2 + 3, obliczonej z przedziału od {a} do {b}, za pomocą metody monte carlo wynosi: {ans}\")\n",
    "print(f\"Błąd bezwględny do właściwego wyniku wyniósł: {err_mc}\")\n"
   ]
  },
  {
   "cell_type": "markdown",
   "id": "dff70e57",
   "metadata": {},
   "source": [
    "## Metoda trapezów"
   ]
  },
  {
   "cell_type": "code",
   "execution_count": 3,
   "id": "3c971431",
   "metadata": {},
   "outputs": [
    {
     "name": "stdout",
     "output_type": "stream",
     "text": [
      "Obliczona wartość całki funkcji x^2 + 3, obliczonej z przedziału od 2 do 5, za pomocą metody trapezów wybosi: 48.00000000044875\n",
      "Błąd bezwględny do właściwego wyniku wyniósł: -4.4875037019664887e-10\n"
     ]
    }
   ],
   "source": [
    "import numpy as np\n",
    "\n",
    "# przedział całkowania\n",
    "a = 2\n",
    "b = 5\n",
    "\n",
    "# liczba iteracji\n",
    "n = 100000\n",
    "\n",
    "# policzenie kroku oraz utworzenie wektora\n",
    "h = (b - a) / (n - 1)\n",
    "x = np.linspace(a, b, n)\n",
    "\n",
    "# zdefiniowanie funkcji\n",
    "fun = lambda x: x**2 + 3\n",
    "f = fun(x)\n",
    "\n",
    "# wzór metody\n",
    "I_trap = (h/2)*(f[0] + \\\n",
    "          2 * sum(f[1:n-1]) + f[n-1])\n",
    "\n",
    "# właściwa wartość całki\n",
    "result = 48\n",
    "\n",
    "# policzenie błędu bezwględnego\n",
    "err_trap = result - I_trap\n",
    "\n",
    "# wydrukowanie komunikatów\n",
    "print(f\"Obliczona wartość całki funkcji x^2 + 3, obliczonej z przedziału od {a} do {b}, za pomocą metody trapezów wybosi: {I_trap}\")\n",
    "print(f\"Błąd bezwględny do właściwego wyniku wyniósł: {err_trap}\")"
   ]
  }
 ],
 "metadata": {
  "kernelspec": {
   "display_name": "Python 3 (ipykernel)",
   "language": "python",
   "name": "python3"
  },
  "language_info": {
   "codemirror_mode": {
    "name": "ipython",
    "version": 3
   },
   "file_extension": ".py",
   "mimetype": "text/x-python",
   "name": "python",
   "nbconvert_exporter": "python",
   "pygments_lexer": "ipython3",
   "version": "3.10.4"
  }
 },
 "nbformat": 4,
 "nbformat_minor": 5
}
