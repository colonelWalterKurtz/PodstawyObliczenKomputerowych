{
 "cells": [
  {
   "cell_type": "markdown",
   "id": "218c0310",
   "metadata": {},
   "source": [
    "# Podstawy Obliczeń Komputerowych\n",
    "## Metody rozwiązywania układów równań liniowych\n",
    "### laboratorium II"
   ]
  },
  {
   "cell_type": "markdown",
   "id": "8efc3dec",
   "metadata": {},
   "source": [
    "1. Wyznaczenie liczby rozwiązań układu \n",
    "\n",
    "***twierdzenie Kroneckera - Capellego*** "
   ]
  },
  {
   "cell_type": "code",
   "execution_count": 3,
   "id": "32b724d2",
   "metadata": {},
   "outputs": [
    {
     "name": "stdout",
     "output_type": "stream",
     "text": [
      "Macierz U:\n",
      "[[ 2.  1.  1. -1.  3.]\n",
      " [ 1.  1. -1.  1.  4.]\n",
      " [ 1.  1.  1.  1. 10.]\n",
      " [-1.  2. -1.  1.  4.]]\n",
      "Układ posiada jedno rozwiązanie\n",
      "\n",
      "Rozwiazanie prawidłowe:\n",
      "[1. 2. 3. 4.]\n"
     ]
    }
   ],
   "source": [
    "import numpy as np\n",
    "\n",
    "A = np.array([[2., 1., 1., -1.], \n",
    "             [1., 1., -1., 1.], \n",
    "             [1., 1., 1., 1.,], \n",
    "             [-1., 2., -1., 1.]])\n",
    "\n",
    "b = np.array([[3., 4., 10., 4.]])\n",
    "B = np.array([3., 4., 10., 4.])\n",
    "\n",
    "U = np.concatenate((A,b.T), axis=1)\n",
    "print(\"Macierz U:\")\n",
    "print(U)\n",
    "\n",
    "# Policzenie rządu utworzonych macierzy\n",
    "rankA = np.linalg.matrix_rank(A)\n",
    "rankU = np.linalg.matrix_rank(U)\n",
    "\n",
    "# Policzenie liczby niewiadomych\n",
    "n = np.shape(A)[1]\n",
    "\n",
    "if rankA == rankU and n==rankA:\n",
    "    print(\"Układ posiada jedno rozwiązanie\")\n",
    "    print(\"\\nRozwiazanie prawidłowe:\")\n",
    "    x = np.linalg.solve(A,B)\n",
    "    print(x)\n",
    "    \n",
    "elif rankA == rankU and n!=rankA:\n",
    "    print(f\"Układ posiada nieskończenie wiele rozwiązań zależnych od {n} parametrów\")\n",
    "elif rankA != rankU:\n",
    "    print(\"Układ jest sprzeczny\")\n",
    "    print(\"KONIEC PROGRAMU\")   \n",
    "    "
   ]
  },
  {
   "cell_type": "markdown",
   "id": "2206863b",
   "metadata": {},
   "source": [
    "2. Wyznaczenie rozwiązania układu równań metodą skończoną\n",
    "\n",
    "***Eliminacja Gaussa***"
   ]
  },
  {
   "cell_type": "code",
   "execution_count": 3,
   "id": "6e59c5b2",
   "metadata": {
    "scrolled": false
   },
   "outputs": [
    {
     "name": "stdout",
     "output_type": "stream",
     "text": [
      "Podaj poszczególne elementy macierzy roszerzonej\n",
      "\n",
      "U:\n",
      "[[ 2.  1.  1. -1.  3.]\n",
      " [ 1.  1. -1.  1.  4.]\n",
      " [ 1.  1.  1.  1. 10.]\n",
      " [-1.  2. -1.  1.  4.]]\n",
      "\n",
      "Rozwiązanie układu: \n",
      "x0=1.0\tx1=2.0\tx2=3.0\tx3=4.0\t"
     ]
    }
   ],
   "source": [
    "# import wymaganych bibliotek\n",
    "import numpy as np\n",
    "import sys\n",
    "\n",
    "# Wczytanie liczby niewiadomych\n",
    "n = int(input('Wprowadź liczbę niewiadomych: '))\n",
    "\n",
    "# Utworzenie macierzy rozszerzonej U\n",
    "U = np.zeros((n,n+1))\n",
    "\n",
    "# Utworzenie wektora rozwiązań\n",
    "x = np.zeros(n)\n",
    "\n",
    "# Wprowadzenie elementów macierzy U\n",
    "print(\"Podaj poszczególne elementy macierzy roszerzonej\")\n",
    "for i in range(n):\n",
    "    for j in range(n+1):\n",
    "        U[i][j] = float(input( f\"U[{i+1}][{j+1}]= \"))\n",
    "\n",
    "# Podgląd wczytanej macierzy U\n",
    "print(\"\\nU:\")\n",
    "print(U)\n",
    "\n",
    "# Algorytm Eliminacji Gaussa\n",
    "for i in range(n):\n",
    "    if U[i][i] == 0.0:\n",
    "        sys.exit(\"Wykryto dzielenie przez 0\")\n",
    "        \n",
    "    for j in range(i+1, n):\n",
    "        ratio = U[j][i]/U[i][i]\n",
    "        \n",
    "        for k in range(n+1):\n",
    "            U[j][k] = U[j][k] - ratio * U[i][k]\n",
    "\n",
    "# Podstawienie odwrotne\n",
    "x[n-1] = U[n-1][n]/U[n-1][n-1]\n",
    "\n",
    "for i in range(n-2,-1,-1):\n",
    "    x[i] = U[i][n]\n",
    "    \n",
    "    for j in range(i+1,n):\n",
    "        x[i] = x[i] - U[i][j]*x[j]\n",
    "    \n",
    "    x[i] = x[i]/U[i][i]\n",
    "\n",
    "# Wyświetlenie wektora rozwiązań\n",
    "print('\\nRozwiązanie układu: ')\n",
    "for i in range(n):\n",
    "    print(f\"x{i}={x[i]}\", end=\"\\t\")"
   ]
  },
  {
   "cell_type": "markdown",
   "id": "428db3a2",
   "metadata": {},
   "source": [
    "3. Wyznaczenie rozwiązania układu równań metodą iteracyjną\n",
    "\n",
    "***Metoda Gaussa-Seidela***\n",
    "\n",
    "- Sprawdzenie czy badany układ równań posiada macierz A przekątniowo dominującą "
   ]
  },
  {
   "cell_type": "code",
   "execution_count": 2,
   "id": "13a2979a",
   "metadata": {},
   "outputs": [
    {
     "name": "stdout",
     "output_type": "stream",
     "text": [
      "Macierz NIE jest przekątniowo dominująca\n"
     ]
    }
   ],
   "source": [
    "import numpy as np\n",
    "\n",
    "A = np.array([[2., 1., 1., -1.], \n",
    "             [1., 1., -1., 1.], \n",
    "             [1., 1., 1., 1.,], \n",
    "             [-1., 2., -1., 1.]])\n",
    "\n",
    "b = np.array([3., 4., 10., 4.])\n",
    "\n",
    "\n",
    "# Policz sumę wartości bezwględnych przekątnej macierzy\n",
    "diag = np.diag(np.abs(A)) \n",
    "\n",
    "# Policz sumę wartości bezwględnych poszczególnych wierszy macierzy, a następnie odejmij od niej sumę wartości bezwględnych przekątnej\n",
    "off_diag = np.sum(np.abs(A), axis=1) - diag \n",
    "\n",
    "# Sprawdzenie czy macierz A jest przekątniowo dominująca\n",
    "if np.all(diag > off_diag):\n",
    "    print(\"Macierz jest przekątniowo dominująca\")\n",
    "else:\n",
    "    print(\"Macierz NIE jest przekątniowo dominująca\")\n"
   ]
  },
  {
   "cell_type": "markdown",
   "id": "754b214f",
   "metadata": {},
   "source": [
    "- Użycie metody ***GS*** \n",
    "    - dla macierzy A przekątniowo dominującej"
   ]
  },
  {
   "cell_type": "code",
   "execution_count": 5,
   "id": "b21841ee",
   "metadata": {
    "scrolled": true
   },
   "outputs": [
    {
     "name": "stdout",
     "output_type": "stream",
     "text": [
      "Wygląd układu równań:\n",
      "[10. -1.  2.  0.] 6.0\n",
      "[-1. 11. -1.  3.] 25.0\n",
      "[ 2. -1. 10. -1.] -11.0\n",
      "[ 0.  3. -1.  8.] 15.0\n",
      "Układ posiada jedno rozwiązanie\n",
      "\n",
      "Rozwiazanie prawidłowe:\n",
      "[ 1.  2. -1.  1.]\n",
      "Macierz jest przekątniowo dominująca\n",
      "\n",
      "Rozpoczęcie obliczeń metody:\n",
      "Iteracja 1: [0. 0. 0. 0.]\n",
      "Iteracja 2: [ 0.6         2.32727273 -0.98727273  0.87886364]\n",
      "Iteracja 3: [ 1.03018182  2.03693802 -1.0144562   0.98434122]\n",
      "Iteracja 4: [ 1.00658504  2.00355502 -1.00252738  0.99835095]\n",
      "Iteracja 5: [ 1.00086098  2.00029825 -1.00030728  0.99984975]\n",
      "Iteracja 6: [ 1.00009128  2.00002134 -1.00003115  0.9999881 ]\n",
      "Iteracja 7: [ 1.00000836  2.00000117 -1.00000275  0.99999922]\n",
      "Iteracja 8: [ 1.00000067  2.00000002 -1.00000021  0.99999996]\n",
      "Iteracja 9: [ 1.00000004  1.99999999 -1.00000001  1.        ]\n",
      "Iteracja 10: [ 1.  2. -1.  1.]\n",
      "\n",
      "Zakończenie działania programu:\n",
      "Wyniki rozwiązań: [ 1.  2. -1.  1.]\n",
      "Błąd: [ 2.06480930e-08 -1.25551054e-08  3.61417563e-11  0.00000000e+00]\n"
     ]
    }
   ],
   "source": [
    "import numpy as np\n",
    "\n",
    "ITERATION_LIMIT = 1000\n",
    "\n",
    "# Inicjalizacja macierzy A\n",
    "A = np.array([[10., -1., 2., 0.],\n",
    "              [-1., 11., -1., 3.],\n",
    "              [2., -1., 10., -1.],\n",
    "              [0., 3., -1., 8.]])\n",
    "# Inicjalizacja wektora b\n",
    "b = np.array([6.0, 25.0, -11.0, 15.0])\n",
    "\n",
    "print(\"Wygląd układu równań:\")\n",
    "for i in range(A.shape[0]):\n",
    "    print(A[i], b[i])\n",
    "\n",
    "B = np.array([[6.0, 25.0, -11.0, 15.0]])\n",
    "U = np.concatenate((A,B.T), axis=1)\n",
    "\n",
    "# Policzenie rządu utworzonych macierzy\n",
    "rankA = np.linalg.matrix_rank(A)\n",
    "rankU = np.linalg.matrix_rank(U)\n",
    "\n",
    "# Policzenie liczby niewiadomych\n",
    "n = np.shape(A)[1]\n",
    "\n",
    "if rankA == rankU and n==rankA:\n",
    "    print(\"Układ posiada jedno rozwiązanie\")\n",
    "    print(\"\\nRozwiazanie prawidłowe:\")\n",
    "    x = np.linalg.solve(A,b)\n",
    "    print(x)\n",
    "    \n",
    "elif rankA == rankU and n!=rankA:\n",
    "    print(f\"Układ posiada nieskończenie wiele rozwiązań zależnych od {n} parametrów\")\n",
    "elif rankA != rankU:\n",
    "    print(\"Układ jest sprzeczny\")\n",
    "\n",
    "# Policz sumę wartości bezwględnych przekątnej macierzy\n",
    "diag = np.diag(np.abs(A)) \n",
    "\n",
    "# Policz sumę wartości bezwględnych poszczególnych wierszy macierzy, a następnie odejmij od niej sumę wartości bezwględnych przekątnej\n",
    "off_diag = np.sum(np.abs(A), axis=1) - diag \n",
    "\n",
    "# Sprawdzenie czy macierz A jest przekątniowo dominująca\n",
    "if np.all(diag > off_diag):\n",
    "    print(\"Macierz jest przekątniowo dominująca\")\n",
    "else:\n",
    "    print(\"Macierz NIE jest przekątniowo dominująca\")\n",
    "\n",
    "print(\"\\nRozpoczęcie obliczeń metody:\")\n",
    "x = np.zeros_like(b)\n",
    "for it_count in range(1, ITERATION_LIMIT):\n",
    "    x_new = np.zeros_like(x)\n",
    "    print(f\"Iteracja {it_count}: {x}\")\n",
    "    for i in range(A.shape[0]):\n",
    "        s1 = np.dot(A[i, :i], x_new[:i])\n",
    "        s2 = np.dot(A[i, i + 1 :], x[i + 1 :])\n",
    "        x_new[i] = (b[i] - s1 - s2) / A[i, i]\n",
    "    if np.allclose(x, x_new, rtol=1e-8):\n",
    "        break\n",
    "    x = x_new\n",
    "\n",
    "print(\"\\nZakończenie działania programu:\")\n",
    "print(f\"Wyniki rozwiązań: {x}\")\n",
    "error = np.dot(A, x) - b\n",
    "print(f\"Błąd: {error}\")\n"
   ]
  }
 ],
 "metadata": {
  "kernelspec": {
   "display_name": "Python 3 (ipykernel)",
   "language": "python",
   "name": "python3"
  },
  "language_info": {
   "codemirror_mode": {
    "name": "ipython",
    "version": 3
   },
   "file_extension": ".py",
   "mimetype": "text/x-python",
   "name": "python",
   "nbconvert_exporter": "python",
   "pygments_lexer": "ipython3",
   "version": "3.9.7"
  }
 },
 "nbformat": 4,
 "nbformat_minor": 5
}
