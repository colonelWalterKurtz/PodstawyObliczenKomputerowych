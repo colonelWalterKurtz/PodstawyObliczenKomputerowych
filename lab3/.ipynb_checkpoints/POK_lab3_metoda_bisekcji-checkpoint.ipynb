{
 "cells": [
  {
   "cell_type": "markdown",
   "id": "67b08dff",
   "metadata": {},
   "source": [
    "# Podstawy Obliczeń Komputerowych\n",
    "## Metody rozwiązywania równań nieliniowych lab3\n",
    "### Równania do przetestowania\n",
    "- $sin^2x = x + log(x)\\Rightarrow 0=-sin^2x+x+log(x) $\n",
    "- $sinx=x^2+log(x)\\Rightarrow 0=-sinx+x^2+log(x)$"
   ]
  },
  {
   "cell_type": "markdown",
   "id": "7899a99e",
   "metadata": {},
   "source": [
    "### 1. Metoda bisekcji"
   ]
  },
  {
   "cell_type": "code",
   "execution_count": 47,
   "id": "90e4059c",
   "metadata": {},
   "outputs": [
    {
     "name": "stdout",
     "output_type": "stream",
     "text": [
      "Rozwiązanie równania 0 = -sin(x)^2 + x + log10(x):\n",
      "0.5399218749999999\n",
      "Różnica pomiędzy wartością obliczoną za pomocą WolframAlpha: \n",
      "1.6108256410019148 %\n",
      "============================================================\n",
      "Rozwiązanie funkcji 0= -sinx + x^2 + log(x):\n",
      "0.9139843749999998\n",
      "Różnica pomiędzy wartością obliczoną za pomocą WolframAlpha: \n",
      "0.48600765253919465 %\n"
     ]
    }
   ],
   "source": [
    "import numpy as np\n",
    "\n",
    "# ZDEFINIOWANIE FUNKCJI METODY BISEKCJI\n",
    "def bisection(f, a, b, tol):\n",
    "    # przybliżenie wartości pierwiastka R zadanej funkcji f\n",
    "    # aproksymacja przebiega w przedziale od a do b w tolerancji tol\n",
    "    # wartość |f(m)|<tol z punktem środkowym m\n",
    "    \n",
    "    # sprawdzenie czy a i b leżą w granicy pierwiastka\n",
    "    if np.sign(f(a)) == np.sign(f(b)):\n",
    "        raise Exception(\n",
    "            f\"Skalary podanych {a} i {b} nie leżą w graniach pierwiastka\")\n",
    "    \n",
    "    # znalezienie punktu środkowego\n",
    "    m = (a + b)/2\n",
    "    \n",
    "    if np.abs(f(m)) < tol:\n",
    "        # warunek STOPu, zwrócenie m jako pierwiastka\n",
    "        return m\n",
    "    elif np.sign(f(a)) == np.sign(f(m)):\n",
    "        # przypadek kiedy m ma większą wartość niż a\n",
    "        # zmniejszenie przedziału w sposób rekurencyjny\n",
    "        return bisection(f, m, b, tol)\n",
    "    elif np.sign(f(b)) == np.sign(f(m)):\n",
    "        # przypadek kiedy m ma większą wartość niż a\n",
    "        # zmniejszenie przedziału w sposób rekurencyjny\n",
    "        return bisection(f, a, m, tol)\n",
    "    \n",
    "# WYWOŁANIE METODY\n",
    "# zainicjowanie badanych równań\n",
    "f1 = lambda x: -np.sin(x)**2 + x + np.log10(x)\n",
    "f2 = lambda x: -np.sin(x) + x**2 + np.log10(x)\n",
    "\n",
    "# policzenie równania pierwszego\n",
    "print(\"Rozwiązanie równania 0 = -sin(x)^2 + x + log10(x):\")\n",
    "rozw1 = bisection(f1, 0.01, 4., 0.01)\n",
    "print(rozw1)\n",
    "print(\"Różnica pomiędzy wartością obliczoną za pomocą WolframAlpha: \")\n",
    "r1 = 0.531362550785269\n",
    "print(abs(rozw1-r1)/r1*100, \"%\")\n",
    "print(\"============================================================\")\n",
    "\n",
    "# policzenie równania drugiego\n",
    "print(\"Rozwiązanie funkcji 0= -sinx + x^2 + log(x):\")\n",
    "rozw2 = bisection(f2, 0.01, 4., 0.01)\n",
    "print(rozw2)\n",
    "print(\"Różnica pomiędzy wartością obliczoną za pomocą WolframAlpha: \")\n",
    "r2 = 0.911401912340456\n",
    "print(abs(rozw2-r2)/r1*100, \"%\")\n"
   ]
  }
 ],
 "metadata": {
  "kernelspec": {
   "display_name": "Python 3 (ipykernel)",
   "language": "python",
   "name": "python3"
  },
  "language_info": {
   "codemirror_mode": {
    "name": "ipython",
    "version": 3
   },
   "file_extension": ".py",
   "mimetype": "text/x-python",
   "name": "python",
   "nbconvert_exporter": "python",
   "pygments_lexer": "ipython3",
   "version": "3.9.7"
  }
 },
 "nbformat": 4,
 "nbformat_minor": 5
}
